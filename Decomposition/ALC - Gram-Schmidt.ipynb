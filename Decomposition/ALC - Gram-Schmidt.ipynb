{
 "cells": [
  {
   "cell_type": "code",
   "execution_count": 1,
   "metadata": {},
   "outputs": [],
   "source": [
    "import numpy as np"
   ]
  },
  {
   "cell_type": "code",
   "execution_count": 31,
   "metadata": {},
   "outputs": [],
   "source": [
    "def gram_schmidt(A):\n",
    "    # Criar matriz Q\n",
    "    Q = np.zeros(A.shape)\n",
    "    # Atualizando 1ª coluna com a 1ª coluna de A normalizada    \n",
    "    for i in range(A.shape[1]):\n",
    "        # Vetor i de Q recebe o vetor i de A\n",
    "        Q[:, i] = A[:, i]\n",
    "        # Somatório das projeções de a em Q\n",
    "        for j in range(i):\n",
    "            # formula para compor o q chapéu\n",
    "            Q[:, i] -= Q[:, j].T @ A[:, i] * Q[:, j]\n",
    "        # Normalização do vetor q, com arredondamento\n",
    "        Q[:, i] /= abs(np.linalg.norm(Q[:, i])) \\\n",
    "        < 1e-8 and 1 or np.linalg.norm(Q[:, i])\n",
    "        #Q[:, i] /= np.linalg.norm(Q[:, i])\n",
    "        \n",
    "    return Q"
   ]
  },
  {
   "cell_type": "code",
   "execution_count": 30,
   "metadata": {},
   "outputs": [
    {
     "data": {
      "text/plain": [
       "array([[ 0.57735, -0.     , -0.     , -0.30861, -0.     , -0.     ],\n",
       "       [ 0.     ,  0.     ,  0.     ,  0.92582,  0.     ,  0.     ],\n",
       "       [ 0.57735,  0.70711,  0.     ,  0.1543 ,  0.     ,  0.     ],\n",
       "       [ 0.57735, -0.70711, -0.     ,  0.1543 , -0.     , -0.     ]])"
      ]
     },
     "execution_count": 30,
     "metadata": {},
     "output_type": "execute_result"
    }
   ],
   "source": [
    "A = np.array([[1, 1, 2, 0, 1, 1],\n",
    "              [0, 0, 0, 1, 2, 1],\n",
    "              [1, 2, 3, 1, 3, 2],\n",
    "              [1, 0, 1, 0, 1, 1]])\n",
    "\n",
    "Q = gram_schmidt(A)\n",
    "Q.round(5)"
   ]
  },
  {
   "cell_type": "code",
   "execution_count": 32,
   "metadata": {},
   "outputs": [
    {
     "data": {
      "text/plain": [
       "array([[ 1., -0., -0., -0., -0., -0.],\n",
       "       [-0.,  1.,  0.,  0.,  0.,  0.],\n",
       "       [-0.,  0.,  0.,  0.,  0.,  0.],\n",
       "       [-0.,  0.,  0.,  1.,  0.,  0.],\n",
       "       [-0.,  0.,  0.,  0.,  0.,  0.],\n",
       "       [-0.,  0.,  0.,  0.,  0.,  0.]])"
      ]
     },
     "execution_count": 32,
     "metadata": {},
     "output_type": "execute_result"
    }
   ],
   "source": [
    "(Q.T @ Q).round(5) "
   ]
  },
  {
   "cell_type": "code",
   "execution_count": 33,
   "metadata": {},
   "outputs": [
    {
     "data": {
      "text/plain": [
       "array([[ 0.57735, -0.70711, -0.40825],\n",
       "       [ 0.57735, -0.     ,  0.8165 ],\n",
       "       [ 0.57735,  0.70711, -0.40825]])"
      ]
     },
     "execution_count": 33,
     "metadata": {},
     "output_type": "execute_result"
    }
   ],
   "source": [
    "A = np.array([\n",
    "    [1, 1, -1],\n",
    "    [1, 2, 1],\n",
    "    [1, 3, 0]\n",
    "], dtype=float)\n",
    "\n",
    "Q = gram_schmidt(A)\n",
    "Q.round(5)"
   ]
  },
  {
   "cell_type": "code",
   "execution_count": 34,
   "metadata": {},
   "outputs": [
    {
     "data": {
      "text/plain": [
       "array([[ 1., -0.,  0.],\n",
       "       [-0.,  1.,  0.],\n",
       "       [ 0.,  0.,  1.]])"
      ]
     },
     "execution_count": 34,
     "metadata": {},
     "output_type": "execute_result"
    }
   ],
   "source": [
    "(Q.T @ Q).round(5) "
   ]
  }
 ],
 "metadata": {
  "@webio": {
   "lastCommId": null,
   "lastKernelId": null
  },
  "kernelspec": {
   "display_name": "Python 3",
   "language": "python",
   "name": "python3"
  },
  "language_info": {
   "codemirror_mode": {
    "name": "ipython",
    "version": 3
   },
   "file_extension": ".py",
   "mimetype": "text/x-python",
   "name": "python",
   "nbconvert_exporter": "python",
   "pygments_lexer": "ipython3",
   "version": "3.6.8"
  }
 },
 "nbformat": 4,
 "nbformat_minor": 2
}
